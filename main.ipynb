{
 "cells": [
  {
   "cell_type": "code",
   "execution_count": null,
   "metadata": {},
   "outputs": [
    {
     "ename": "",
     "evalue": "",
     "output_type": "error",
     "traceback": [
      "\u001b[1;31mFailed to start the Kernel. \n",
      "\u001b[1;31mTraceback (most recent call last):\n",
      "\u001b[1;31m  File \"/Users/jungbug/anaconda3/envs/tensorflow_macos/lib/python3.8/runpy.py\", line 194, in _run_module_as_main\n",
      "\u001b[1;31m    return _run_code(code, main_globals, None,\n",
      "\u001b[1;31m  File \"/Users/jungbug/anaconda3/envs/tensorflow_macos/lib/python3.8/runpy.py\", line 87, in _run_code\n",
      "\u001b[1;31m    exec(code, run_globals)\n",
      "\u001b[1;31m  File \"/Users/jungbug/anaconda3/envs/tensorflow_macos/lib/python3.8/site-packages/ipykernel_launcher.py\", line 15, in <module>\n",
      "\u001b[1;31m    from ipykernel import kernelapp as app\n",
      "\u001b[1;31m  File \"/Users/jungbug/anaconda3/envs/tensorflow_macos/lib/python3.8/site-packages/ipykernel/kernelapp.py\", line 19, in <module>\n",
      "\u001b[1;31m    from IPython.core.application import (  # type:ignore[attr-defined]\n",
      "\u001b[1;31m  File \"/Users/jungbug/anaconda3/envs/tensorflow_macos/lib/python3.8/site-packages/IPython/__init__.py\", line 53, in <module>\n",
      "\u001b[1;31m    from .terminal.embed import embed\n",
      "\u001b[1;31m  File \"/Users/jungbug/anaconda3/envs/tensorflow_macos/lib/python3.8/site-packages/IPython/terminal/embed.py\", line 15, in <module>\n",
      "\u001b[1;31m    from IPython.core.interactiveshell import DummyMod, InteractiveShell\n",
      "\u001b[1;31m  File \"/Users/jungbug/anaconda3/envs/tensorflow_macos/lib/python3.8/site-packages/IPython/core/interactiveshell.py\", line 73, in <module>\n",
      "\u001b[1;31m    from IPython.core.history import HistoryManager\n",
      "\u001b[1;31m  File \"/Users/jungbug/anaconda3/envs/tensorflow_macos/lib/python3.8/site-packages/IPython/core/history.py\", line 11, in <module>\n",
      "\u001b[1;31m    import sqlite3\n",
      "\u001b[1;31m  File \"/Users/jungbug/anaconda3/envs/tensorflow_macos/lib/python3.8/sqlite3/__init__.py\", line 23, in <module>\n",
      "\u001b[1;31m    from sqlite3.dbapi2 import *\n",
      "\u001b[1;31m  File \"/Users/jungbug/anaconda3/envs/tensorflow_macos/lib/python3.8/sqlite3/dbapi2.py\", line 27, in <module>\n",
      "\u001b[1;31m    from _sqlite3 import *\n",
      "\u001b[1;31mImportError: dlopen(/Users/jungbug/anaconda3/envs/tensorflow_macos/lib/python3.8/lib-dynload/_sqlite3.cpython-38-darwin.so, 0x0002): Symbol not found: _sqlite3_enable_load_extension\n",
      "\u001b[1;31m  Referenced from: <DA13773A-938C-328A-AA62-7D38EC832535> /Users/jungbug/anaconda3/envs/tensorflow_macos/lib/python3.8/lib-dynload/_sqlite3.cpython-38-darwin.so\n",
      "\u001b[1;31m  Expected in:     <567CDD63-191D-36E4-959B-7DE47C7AFD7A> /usr/lib/libsqlite3.dylib. \n",
      "\u001b[1;31mView Jupyter <a href='command:jupyter.viewOutput'>log</a> for further details."
     ]
    }
   ],
   "source": [
    "import tensorflow as tf\n",
    "import numpy as np\n",
    "import matplotlib.pyplot as plt\n",
    "import cv2\n",
    "\n"
   ]
  }
 ],
 "metadata": {
  "kernelspec": {
   "display_name": "tensorflow_macos",
   "language": "python",
   "name": "python3"
  },
  "language_info": {
   "name": "python",
   "version": "3.8.16"
  }
 },
 "nbformat": 4,
 "nbformat_minor": 2
}
