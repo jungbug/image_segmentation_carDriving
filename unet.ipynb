{
 "cells": [
  {
   "cell_type": "code",
   "execution_count": 1,
   "metadata": {},
   "outputs": [
    {
     "ename": "ModuleNotFoundError",
     "evalue": "No module named 'pandas'",
     "output_type": "error",
     "traceback": [
      "\u001b[0;31m---------------------------------------------------------------------------\u001b[0m",
      "\u001b[0;31mModuleNotFoundError\u001b[0m                       Traceback (most recent call last)",
      "Cell \u001b[0;32mIn[1], line 3\u001b[0m\n\u001b[1;32m      1\u001b[0m \u001b[38;5;28;01mimport\u001b[39;00m \u001b[38;5;21;01mos\u001b[39;00m\n\u001b[1;32m      2\u001b[0m \u001b[38;5;28;01mimport\u001b[39;00m \u001b[38;5;21;01mnumpy\u001b[39;00m \u001b[38;5;28;01mas\u001b[39;00m \u001b[38;5;21;01mnp\u001b[39;00m\n\u001b[0;32m----> 3\u001b[0m \u001b[38;5;28;01mimport\u001b[39;00m \u001b[38;5;21;01mpandas\u001b[39;00m \u001b[38;5;28;01mas\u001b[39;00m \u001b[38;5;21;01mpd\u001b[39;00m\n\u001b[1;32m      4\u001b[0m \u001b[38;5;28;01mimport\u001b[39;00m \u001b[38;5;21;01mre\u001b[39;00m\n\u001b[1;32m      5\u001b[0m \u001b[38;5;28;01mimport\u001b[39;00m \u001b[38;5;21;01mmatplotlib\u001b[39;00m\u001b[38;5;21;01m.\u001b[39;00m\u001b[38;5;21;01mpyplot\u001b[39;00m \u001b[38;5;28;01mas\u001b[39;00m \u001b[38;5;21;01mplt\u001b[39;00m\n",
      "\u001b[0;31mModuleNotFoundError\u001b[0m: No module named 'pandas'"
     ]
    }
   ],
   "source": [
    "\n",
    "import os\n",
    "import numpy as np\n",
    "import pandas as pd\n",
    "import re\n",
    "import matplotlib.pyplot as plt\n",
    "import cv2\n",
    "import tensorflow as tf"
   ]
  },
  {
   "cell_type": "code",
   "execution_count": null,
   "metadata": {},
   "outputs": [],
   "source": [
    "framObjTrain = {'img' : [],\n",
    "           'mask' : []\n",
    "          }\n",
    "\n",
    "framObjValidation = {'img' : [],\n",
    "           'mask' : []\n",
    "          }\n",
    "\n",
    "## defining data Loader function\n",
    "def LoadData( frameObj = None, imgPath = None, maskPath = None, shape = 256):\n",
    "    imgNames = os.listdir(imgPath)\n",
    "    maskNames = []\n",
    "    \n",
    "    ## generating mask names\n",
    "    for mem in imgNames:\n",
    "        maskNames.append(re.sub('\\.png', '_L.png', mem))\n",
    "    \n",
    "    imgAddr = imgPath + '/'\n",
    "    maskAddr = maskPath + '/'\n",
    "    \n",
    "    for i in range (len(imgNames)):\n",
    "        img = plt.imread(imgAddr + imgNames[i])\n",
    "        mask = plt.imread(maskAddr + maskNames[i])\n",
    "        \n",
    "        img = cv2.resize(img, (shape, shape)) \n",
    "        mask = cv2.resize(mask, (shape, shape))\n",
    "        \n",
    "        frameObj['img'].append(img)\n",
    "        frameObj['mask'].append(mask)\n",
    "        \n",
    "    return frameObj"
   ]
  },
  {
   "cell_type": "code",
   "execution_count": null,
   "metadata": {},
   "outputs": [],
   "source": [
    "framObjTrain = LoadData( framObjTrain, imgPath = './data Set/CamVid/train', maskPath = './data Set/CamVid/train_labels'\n",
    "         , shape = 256)\n",
    "\n",
    "framObjValidation  = LoadData( framObjValidation, imgPath = './data Set/CamVid/val', maskPath = './data Set/CamVid/val_labels'\n",
    "         , shape = 256)"
   ]
  }
 ],
 "metadata": {
  "kernelspec": {
   "display_name": "tensorflow_macos",
   "language": "python",
   "name": "python3"
  },
  "language_info": {
   "codemirror_mode": {
    "name": "ipython",
    "version": 3
   },
   "file_extension": ".py",
   "mimetype": "text/x-python",
   "name": "python",
   "nbconvert_exporter": "python",
   "pygments_lexer": "ipython3",
   "version": "3.8.18"
  }
 },
 "nbformat": 4,
 "nbformat_minor": 2
}
